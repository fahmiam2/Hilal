{
 "cells": [
  {
   "cell_type": "markdown",
   "id": "instrumental-store",
   "metadata": {},
   "source": [
    "# Import Library "
   ]
  },
  {
   "cell_type": "code",
   "execution_count": 1,
   "id": "defensive-smile",
   "metadata": {},
   "outputs": [],
   "source": [
    "import ephem\n",
    "import pandas as pd \n",
    "import numpy as np \n",
    "from datetime import datetime\n",
    "from datetime import timedelta\n",
    "from geopy.exc import GeocoderTimedOut\n",
    "from geopy.geocoders import Nominatim"
   ]
  },
  {
   "cell_type": "markdown",
   "id": "earlier-anaheim",
   "metadata": {},
   "source": [
    "# Menentukan Latitude dan Longitude Lokasi menggunakan Modul Geopy"
   ]
  },
  {
   "cell_type": "code",
   "execution_count": 2,
   "id": "configured-draft",
   "metadata": {},
   "outputs": [],
   "source": [
    "data = {'City':['Aceh', 'Padang', 'Palembang', 'Tangerang', 'Jakarta', 'Bandung']}\n",
    "     \n",
    "df = pd.DataFrame(data) "
   ]
  },
  {
   "cell_type": "code",
   "execution_count": 3,
   "id": "understood-northwest",
   "metadata": {},
   "outputs": [],
   "source": [
    "longitude = []\n",
    "latitude = []\n",
    "    \n",
    "def findGeocode(city):\n",
    "\n",
    "    try:\n",
    "          \n",
    "        geolocator = Nominatim(user_agent=\"your_app_name\")\n",
    "          \n",
    "        return geolocator.geocode(city)\n",
    "      \n",
    "    except GeocoderTimedOut:\n",
    "          \n",
    "        return findGeocode(city)    \n",
    "   \n",
    "for i in (df[\"City\"]):\n",
    "      \n",
    "    if findGeocode(i) != None:\n",
    "        loc = findGeocode(i)\n",
    "        latitude.append(loc.latitude)\n",
    "        longitude.append(loc.longitude)\n",
    "    else:\n",
    "        latitude.append(np.nan)\n",
    "        longitude.append(np.nan)"
   ]
  },
  {
   "cell_type": "code",
   "execution_count": 4,
   "id": "stopped-happiness",
   "metadata": {},
   "outputs": [
    {
     "name": "stdout",
     "output_type": "stream",
     "text": [
      "<class 'pandas.core.frame.DataFrame'>\n",
      "RangeIndex: 6 entries, 0 to 5\n",
      "Data columns (total 3 columns):\n",
      " #   Column  Non-Null Count  Dtype \n",
      "---  ------  --------------  ----- \n",
      " 0   City    6 non-null      object\n",
      " 1   Long    6 non-null      object\n",
      " 2   Lat     6 non-null      object\n",
      "dtypes: object(3)\n",
      "memory usage: 272.0+ bytes\n"
     ]
    }
   ],
   "source": [
    "df[\"Long\"] = longitude\n",
    "df[\"Lat\"] = latitude\n",
    "#df['Long'] = df['Long'].astype(str)\n",
    "#df['Lat'] = df['Lat'].astype(str)\n",
    "df.info()"
   ]
  },
  {
   "cell_type": "markdown",
   "id": "allied-thomas",
   "metadata": {},
   "source": [
    "# Prakira Hilal"
   ]
  },
  {
   "cell_type": "code",
   "execution_count": 26,
   "id": "proper-memphis",
   "metadata": {},
   "outputs": [],
   "source": [
    "def observer(lokasi, longitude, latitude, date):\n",
    "    obs = ephem.Observer()\n",
    "    obs.lat = latitude\n",
    "    obs.lon = longitude\n",
    "    obs.date = date #waktu pengamatan hilal: YYYY/MM/DD HH:MM:SS (waktu maghrib di lokasi dalam utc) \n",
    "    #obs.date = ephem.localtime(obs.date) #convert utc ke waktu lokal\n",
    "    print(\"Pengamatan hilal dilakukan pada {} WIB\".format(ephem.localtime(obs.date)))\n",
    "    \n",
    "    # Sun-Moon Elongation and its Altitude\n",
    "    Moon = ephem.Moon()\n",
    "    Moon.compute(obs)\n",
    "    print(\"\\nKetinggian bulan pada {} WIB sebesar {} derajat \\n\"\n",
    "          \"dan elongasi bulan sebesar {} derajat\".format(ephem.localtime(obs.date),\n",
    "                                                         Moon.alt, Moon.elong))\n",
    "    \n",
    "    # New Moon\n",
    "    b = date.split(' ', 1)\n",
    "    b = b[0]\n",
    "    d = ephem.next_new_moon(b)\n",
    "    d = ephem.to_timezone(d, ephem.UTC)\n",
    "    #d = ephem.localtime(d)\n",
    "    print(\"\\nWaktu ijtimak terjadi pada: {} WIB\".format(d))\n",
    "    \n",
    "    # Age of the Moon when does hilal observation\n",
    "    d_obs = ephem.Date(obs.date)\n",
    "    d_obs = ephem.to_timezone(d_obs, ephem.UTC)\n",
    "    age = d_obs - d \n",
    "    print(\"Bulan pada saat pengamatan berumur {}\".format(age))\n",
    "        \n",
    "    # MABIMS Criteria\n",
    "    alt_mabims = ephem.degrees('2:00:00')\n",
    "    elong_mabims = ephem.degrees('3:00:00')\n",
    "    age_mabims = timedelta(hours=8)\n",
    "\n",
    "\n",
    "    if Moon.alt >= alt_mabims:\n",
    "        if Moon.elong >= elong_mabims:\n",
    "            if age >= age_mabims:    \n",
    "                print(\"\\n###### Diperkirakan akan terlihat hilal di {} #######\".format(lokasi))\n",
    "            else:\n",
    "                print(\"\\n####### Diperkirakan hilal tidak akan terlihat hilal di {} #######\".format(lokasi))\n",
    "        else:\n",
    "            print(\"\\n####### Diperkirakan hilal tidak akan terlihat hilal di {} #######\".format(lokasi))\n",
    "    else:\n",
    "        print(\"\\n####### Diperkirakan hilal tidak akan terlihat hilal di {} #######\".format(lokasi))\n",
    "    \n",
    "    \n",
    "    return observer"
   ]
  },
  {
   "cell_type": "code",
   "execution_count": 27,
   "id": "appointed-basement",
   "metadata": {},
   "outputs": [
    {
     "data": {
      "text/html": [
       "<div>\n",
       "<style scoped>\n",
       "    .dataframe tbody tr th:only-of-type {\n",
       "        vertical-align: middle;\n",
       "    }\n",
       "\n",
       "    .dataframe tbody tr th {\n",
       "        vertical-align: top;\n",
       "    }\n",
       "\n",
       "    .dataframe thead th {\n",
       "        text-align: right;\n",
       "    }\n",
       "</style>\n",
       "<table border=\"1\" class=\"dataframe\">\n",
       "  <thead>\n",
       "    <tr style=\"text-align: right;\">\n",
       "      <th></th>\n",
       "      <th>City</th>\n",
       "      <th>Long</th>\n",
       "      <th>Lat</th>\n",
       "    </tr>\n",
       "  </thead>\n",
       "  <tbody>\n",
       "    <tr>\n",
       "      <th>0</th>\n",
       "      <td>Aceh</td>\n",
       "      <td>97.0253024</td>\n",
       "      <td>4.3685491</td>\n",
       "    </tr>\n",
       "    <tr>\n",
       "      <th>1</th>\n",
       "      <td>Padang</td>\n",
       "      <td>100.3632561</td>\n",
       "      <td>-0.9247587</td>\n",
       "    </tr>\n",
       "    <tr>\n",
       "      <th>2</th>\n",
       "      <td>Palembang</td>\n",
       "      <td>104.756857</td>\n",
       "      <td>-2.9888297</td>\n",
       "    </tr>\n",
       "    <tr>\n",
       "      <th>3</th>\n",
       "      <td>Tangerang</td>\n",
       "      <td>106.6384468</td>\n",
       "      <td>-6.1760311</td>\n",
       "    </tr>\n",
       "    <tr>\n",
       "      <th>4</th>\n",
       "      <td>Jakarta</td>\n",
       "      <td>106.827183</td>\n",
       "      <td>-6.1753942</td>\n",
       "    </tr>\n",
       "    <tr>\n",
       "      <th>5</th>\n",
       "      <td>Bandung</td>\n",
       "      <td>107.6049539</td>\n",
       "      <td>-6.9344694</td>\n",
       "    </tr>\n",
       "  </tbody>\n",
       "</table>\n",
       "</div>"
      ],
      "text/plain": [
       "        City         Long         Lat\n",
       "0       Aceh   97.0253024   4.3685491\n",
       "1     Padang  100.3632561  -0.9247587\n",
       "2  Palembang   104.756857  -2.9888297\n",
       "3  Tangerang  106.6384468  -6.1760311\n",
       "4    Jakarta   106.827183  -6.1753942\n",
       "5    Bandung  107.6049539  -6.9344694"
      ]
     },
     "execution_count": 27,
     "metadata": {},
     "output_type": "execute_result"
    }
   ],
   "source": [
    "#Data lokasi, longitude, dan Latitude\n",
    "df"
   ]
  },
  {
   "cell_type": "code",
   "execution_count": 29,
   "id": "round-asset",
   "metadata": {},
   "outputs": [
    {
     "name": "stdout",
     "output_type": "stream",
     "text": [
      "Pengamatan hilal dilakukan pada 2021-04-12 17:58:00 WIB\n",
      "\n",
      "Ketinggian bulan pada 2021-04-12 17:58:00 WIB sebesar 2:35:03.0 derajat \n",
      "dan elongasi bulan sebesar 5:18:08.1 derajat\n",
      "\n",
      "Waktu ijtimak terjadi pada: 2021-04-12 02:30:47.671991+00:00 WIB\n",
      "Bulan pada saat pengamatan berumur 8:27:12.328009\n",
      "\n",
      "###### Diperkirakan akan terlihat hilal di kota Tangerang #######\n"
     ]
    },
    {
     "data": {
      "text/plain": [
       "<function __main__.observer(lokasi, longitude, latitude, date)>"
      ]
     },
     "execution_count": 29,
     "metadata": {},
     "output_type": "execute_result"
    }
   ],
   "source": [
    "# Prakiraan di kota Tangerang\n",
    "# Observer(lokasi, longitude, latitude, tanggal-waktu YYYY-MM-DD HH:MM:SS)\n",
    "observer('kota Tangerang', '106.6384468', '-6.1760311', '2021/04/12 10:58:00')"
   ]
  },
  {
   "cell_type": "markdown",
   "id": "manual-mixer",
   "metadata": {},
   "source": [
    "## catatan:\n",
    "- Altitude/Ketinggian bulan bernilai __minus__ menunjukkan bahwa bulan berada di bawah horizon\n",
    "- Umur Bulan bernilai __minus__ menunjukkan bahwa bulan belum mencapai ijtimak "
   ]
  }
 ],
 "metadata": {
  "kernelspec": {
   "display_name": "Python 3",
   "language": "python",
   "name": "python3"
  },
  "language_info": {
   "codemirror_mode": {
    "name": "ipython",
    "version": 3
   },
   "file_extension": ".py",
   "mimetype": "text/x-python",
   "name": "python",
   "nbconvert_exporter": "python",
   "pygments_lexer": "ipython3",
   "version": "3.7.7"
  },
  "latex_envs": {
   "LaTeX_envs_menu_present": true,
   "autoclose": false,
   "autocomplete": true,
   "bibliofile": "biblio.bib",
   "cite_by": "apalike",
   "current_citInitial": 1,
   "eqLabelWithNumbers": true,
   "eqNumInitial": 1,
   "hotkeys": {
    "equation": "Ctrl-E",
    "itemize": "Ctrl-I"
   },
   "labels_anchors": false,
   "latex_user_defs": false,
   "report_style_numbering": false,
   "user_envs_cfg": false
  },
  "toc": {
   "base_numbering": 1,
   "nav_menu": {},
   "number_sections": true,
   "sideBar": true,
   "skip_h1_title": false,
   "title_cell": "Table of Contents",
   "title_sidebar": "Contents",
   "toc_cell": false,
   "toc_position": {},
   "toc_section_display": true,
   "toc_window_display": false
  }
 },
 "nbformat": 4,
 "nbformat_minor": 5
}
