{
 "cells": [
  {
   "cell_type": "code",
   "execution_count": 1,
   "id": "eastern-jersey",
   "metadata": {},
   "outputs": [
    {
     "name": "stdout",
     "output_type": "stream",
     "text": [
      "Requirement already satisfied: ephem in c:\\users\\acer\\anaconda3\\lib\\site-packages (3.7.7.1)\n",
      "Note: you may need to restart the kernel to use updated packages.\n"
     ]
    }
   ],
   "source": [
    "pip install ephem "
   ]
  },
  {
   "cell_type": "code",
   "execution_count": 2,
   "id": "appreciated-potato",
   "metadata": {},
   "outputs": [],
   "source": [
    "import ephem"
   ]
  },
  {
   "cell_type": "code",
   "execution_count": 3,
   "id": "emotional-newton",
   "metadata": {},
   "outputs": [],
   "source": [
    "lokasi = 'kota Tangerang'\n",
    "Tangerang = ephem.Observer()\n",
    "Tangerang.lat = '-6.17806' #Tangerang's lattitude\n",
    "Tangerang.lon = '106.63' #Tangerang's Longitude\n",
    "Tangerang.date = '2021/04/12 10:57:00' #Input Hilal Observation Datetime (UTC Time)"
   ]
  },
  {
   "cell_type": "code",
   "execution_count": 4,
   "id": "adjustable-planning",
   "metadata": {},
   "outputs": [
    {
     "name": "stdout",
     "output_type": "stream",
     "text": [
      "Ketinggian hilal 12/4 2021 pada saat Maghrib sebesar 2:49:08.4 \n",
      "dan elongasi bulan sebesar 5:17:49.3\n"
     ]
    }
   ],
   "source": [
    "# Sun-Moon Elongation and its Altitude\n",
    "Moon = ephem.Moon()\n",
    "Moon.compute(Tangerang)\n",
    "print(\"Ketinggian hilal 12/4 2021 pada saat Maghrib sebesar {} \\ndan elongasi bulan sebesar {}\".format(Moon.alt, Moon.elong))"
   ]
  },
  {
   "cell_type": "code",
   "execution_count": 5,
   "id": "established-buffalo",
   "metadata": {},
   "outputs": [
    {
     "name": "stdout",
     "output_type": "stream",
     "text": [
      "Waktu ijtimak terjadi pada: 2021-04-12 02:30:47.671991+00:00 UTC\n"
     ]
    }
   ],
   "source": [
    "# New Moon\n",
    "d = ephem.next_new_moon('2021/04/12')\n",
    "d = ephem.to_timezone(d, ephem.UTC)\n",
    "print(\"Waktu ijtimak terjadi pada: {} UTC\".format(d))"
   ]
  },
  {
   "cell_type": "code",
   "execution_count": 6,
   "id": "settled-desktop",
   "metadata": {},
   "outputs": [
    {
     "name": "stdout",
     "output_type": "stream",
     "text": [
      "Umur bulan pada saat pengamatan hilal di kota Tangerang 8:26:12.328009\n"
     ]
    }
   ],
   "source": [
    "# Age of the Moon when does hilal observation\n",
    "d_obs = ephem.Date('2021/04/12 10:57')\n",
    "d_obs = ephem.to_timezone(d_obs, ephem.UTC)\n",
    "age = d_obs - d\n",
    "print(\"Umur bulan pada saat pengamatan hilal di kota Tangerang {}\".format(age))"
   ]
  },
  {
   "cell_type": "code",
   "execution_count": 7,
   "id": "steady-multiple",
   "metadata": {},
   "outputs": [],
   "source": [
    "# MABIMS Criteria\n",
    "from datetime import datetime\n",
    "from datetime import timedelta\n",
    "\n",
    "alt_mabims = ephem.degrees('2:00:00')\n",
    "elong_mabims = ephem.degrees('3:00:00')\n",
    "age_mabims = timedelta(hours=8)"
   ]
  },
  {
   "cell_type": "code",
   "execution_count": 8,
   "id": "graduate-champion",
   "metadata": {},
   "outputs": [
    {
     "name": "stdout",
     "output_type": "stream",
     "text": [
      "Diperkirakan akan terlihat hilal di kota Tangerang\n"
     ]
    }
   ],
   "source": [
    "if Moon.alt >= alt_mabims:\n",
    "    if Moon.elong >= elong_mabims:\n",
    "        if age >= age_mabims:    \n",
    "            print(\"Diperkirakan akan terlihat hilal di {}\".format(lokasi))\n",
    "        else:\n",
    "            print(\"Diperkirakan hilal tidak akan terlihat hilal di {}\".format(lokasi))\n",
    "    else:\n",
    "        print(\"Diperkirakan hilal tidak akan terlihat hilal di {}\".format(lokasi))\n",
    "else:\n",
    "    print(\"Diperkirakan hilal tidak akan terlihat hilal di {}\".format(lokasi))"
   ]
  },
  {
   "cell_type": "code",
   "execution_count": null,
   "id": "basic-debate",
   "metadata": {},
   "outputs": [],
   "source": []
  },
  {
   "cell_type": "code",
   "execution_count": null,
   "id": "saving-producer",
   "metadata": {},
   "outputs": [],
   "source": []
  }
 ],
 "metadata": {
  "kernelspec": {
   "display_name": "Python 3",
   "language": "python",
   "name": "python3"
  },
  "language_info": {
   "codemirror_mode": {
    "name": "ipython",
    "version": 3
   },
   "file_extension": ".py",
   "mimetype": "text/x-python",
   "name": "python",
   "nbconvert_exporter": "python",
   "pygments_lexer": "ipython3",
   "version": "3.7.7"
  },
  "latex_envs": {
   "LaTeX_envs_menu_present": true,
   "autoclose": false,
   "autocomplete": true,
   "bibliofile": "biblio.bib",
   "cite_by": "apalike",
   "current_citInitial": 1,
   "eqLabelWithNumbers": true,
   "eqNumInitial": 1,
   "hotkeys": {
    "equation": "Ctrl-E",
    "itemize": "Ctrl-I"
   },
   "labels_anchors": false,
   "latex_user_defs": false,
   "report_style_numbering": false,
   "user_envs_cfg": false
  },
  "toc": {
   "base_numbering": 1,
   "nav_menu": {},
   "number_sections": true,
   "sideBar": true,
   "skip_h1_title": false,
   "title_cell": "Table of Contents",
   "title_sidebar": "Contents",
   "toc_cell": false,
   "toc_position": {},
   "toc_section_display": true,
   "toc_window_display": false
  }
 },
 "nbformat": 4,
 "nbformat_minor": 5
}
